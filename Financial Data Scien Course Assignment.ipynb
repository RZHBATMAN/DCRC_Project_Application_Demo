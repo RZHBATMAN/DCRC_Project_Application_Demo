{
  "nbformat": 4,
  "nbformat_minor": 5,
  "metadata": {
    "kernelspec": {
      "display_name": "Python 3",
      "language": "python",
      "name": "python3"
    },
    "language_info": {
      "codemirror_mode": {
        "name": "ipython",
        "version": 3
      },
      "file_extension": ".py",
      "mimetype": "text/x-python",
      "name": "python",
      "nbconvert_exporter": "python",
      "pygments_lexer": "ipython3",
      "version": "3.8.8"
    },
    "colab": {
      "name": "PS3 Q2.ipynb",
      "provenance": [],
      "collapsed_sections": []
    }
  },
  "cells": [
    {
      "cell_type": "markdown",
      "metadata": {
        "id": "RFsZMJrv5rGg"
      },
      "source": [
        "#Q2"
      ],
      "id": "RFsZMJrv5rGg"
    },
    {
      "cell_type": "markdown",
      "metadata": {
        "id": "CZdhif9wQ9rL"
      },
      "source": [
        "##a)\n",
        "\n",
        "Given x is known, take derivative of (2) with respect to $\\eta$ we can get \n",
        "\n",
        "$$\n",
        "-2\\sum_{i=1}^{n}(x_i(Cx)_i - \\eta\\ast)= 0\n",
        "$$\n",
        "$$\n",
        "n\\eta\\ast = \\sum_{i=1}^{n}x_i(Cx)_i\n",
        "$$\n",
        "$$\n",
        "n\\eta\\ast = \\frac{1}{n}\\sum_{i=1}^{n}x_i(Cx)_i\n",
        "$$\n",
        "for any x in feasible set\n",
        "\n",
        "To show uniqueness we can prove by contradiction. Assume there exit $\\eta'$ not equal to $\\eta\\ast$ that also minimizes (2), then we have \n",
        "$$\n",
        "\\sum_{i=1}^{n}(x_i(Cx)_i - \\eta\\ast)^2 + \\rho x^TCx = \\sum_{i=1}^{n}(x_i(Cx)_i - \\eta')^2 + \\rho x^TCx\n",
        "$$\n",
        "$$\n",
        "-2\\sum_{i=1}^{n}(x_i(Cx)_i\\eta\\ast) + n\\eta\\ast^2= -2\\sum_{i=1}^{n}(x_i(Cx)_i\\eta') + n\\eta'^2\n",
        "$$\n",
        "\n",
        "$$\n",
        "(\\eta\\ast - \\eta')(2\\sum_{i=1}^{n}x_i(Cx)_i + n(\\eta\\ast + \\eta')) = 0\n",
        "$$\n",
        "$\\sum_{i=1}^{n}x_i(Cx)_i > 0$ since it is portfolio variance. Both $\\eta\\ast $ and $\\eta'$ should be positive, otherwise $-\\eta\\ast$ and $\\eta'$  are positive then (2) cannot reach the minimum point for sure. So we should have $\\eta\\ast - \\eta' = 0 $, i.e. $\\eta\\ast = \\eta$. So optimal $\\eta$ is unique.\n"
      ],
      "id": "CZdhif9wQ9rL"
    },
    {
      "cell_type": "markdown",
      "metadata": {
        "id": "KbMMePJzXJFY"
      },
      "source": [
        "##b)\n",
        "\n",
        "$$\n",
        "x^T(M_i - \\frac{1}{n}C)y =x^TM_iy -\\frac{1}{n}Cy \n",
        "$$\n",
        "plug in the constraint x=y we can get\n",
        "$$\n",
        "\\sum_{i=1}^{n}(x^T(M_i - \\overline C)y)^2 = \\sum_{i=1}^{n}(x^TM_ix - \\frac{1}{n}x^TCx)^2\n",
        "$$\n",
        "where\n",
        "$$\n",
        "\\frac{1}{n}x^TCx = \\frac{1}{n}\\sum_{i=1}^{n}x_i(Cx)_i = \\eta\\ast \n",
        "$$\n",
        "\n",
        "So set $x^TM_ix = x_i(Cx)_i$ we can get $M_i = CI^\\ast_i$ where $I^\\ast_i$ means diagonal matrix with ith diagonal entry equal to 1 and all other entries equal to zero.\n",
        "\n",
        "When x = y, the first term of the equation (4)  $\\sum_{i=1}^{n}(x^T(M_i - \\overline C)x)^2 $would be convex if and only if $(M_i - \\overline{C})$ is PSD. But $(M_i - \\overline C)$ does not necessarily to be symmetric and $z^TM_iz - z^T\\overline Cz \\geq 0$ are not guaranteed for all z. So we do not have the equation (4) to be convex. "
      ],
      "id": "KbMMePJzXJFY"
    },
    {
      "cell_type": "markdown",
      "metadata": {
        "id": "dknXUG2w5ml1"
      },
      "source": [
        "##c)\n",
        "\n",
        "Problem in part (b) above was non-convex, here the algorithm relaxes x=y condition and we fit optimal values of x and y in each iteration separately, and each of these steps is convex and hence can be solved using cvxpy.\n",
        "\n",
        "The 2nd and 3rd terms of $argmin$ steps are convex due to C being PSD and norm being convex respectively. The first term is also convex because this time, $x \\neq y$ and hence we are no longer dependent on $M_i - \\overline{C}$ being a PSD. Overall, sum of three convex terms is convex."
      ],
      "id": "dknXUG2w5ml1"
    },
    {
      "cell_type": "code",
      "metadata": {
        "id": "391b3942"
      },
      "source": [
        "#c)\n",
        "\n",
        "import numpy as np\n",
        "import cvxpy as cp\n",
        "import timeit\n"
      ],
      "id": "391b3942",
      "execution_count": null,
      "outputs": []
    },
    {
      "cell_type": "code",
      "metadata": {
        "id": "cb0f7e72"
      },
      "source": [
        "def create_mlst(x):\n",
        "    Mlist = []\n",
        "    n = len(x)\n",
        "    for i in range(n):\n",
        "        M0 = np.zeros((n, n))\n",
        "        M0[i][i] = 1\n",
        "        Mlist.append(M0)\n",
        "    return Mlist"
      ],
      "id": "cb0f7e72",
      "execution_count": null,
      "outputs": []
    },
    {
      "cell_type": "code",
      "metadata": {
        "id": "66178ab7"
      },
      "source": [
        "#optimization function for one interation\n",
        "\n",
        "def opt_x(x0,miu0,rho,rho_r,C,l_bound, u_bound,r_hat):\n",
        "    y0 = x0\n",
        "    n = len(x0)\n",
        "    M_sum = 0\n",
        "    Mlist = create_mlst(x0)\n",
        "    \n",
        "    x = cp.Variable((n,1))\n",
        "    \n",
        "    obj_fcn = 0\n",
        " \n",
        "    for i in range(n):\n",
        "        M_sum = M_sum + ((x.T @ (C@Mlist[i] - 1/n*C))@y0)**2\n",
        "        \n",
        "    obj_fcn = M_sum + rho*((x.T@C)@y0) + 1/miu0*cp.pnorm(y0-x,p=2)**2\n",
        "    \n",
        "    #constraints:\n",
        "    constraints = [x>=l_bound, x<=u_bound,\n",
        "                  cp.sum(x)==1,\n",
        "                  r_hat.T @ x >= rho_r]\n",
        "    \n",
        "    f = cp.Minimize(obj_fcn)\n",
        "    prob = cp.Problem(f,constraints)\n",
        "    prob.solve()\n",
        "    return x.value\n",
        "\n",
        "\n",
        "\n",
        "#choose miu_d to be the percentage of how much miu decreases for every iteration\n",
        "#thres represents the threshold to exit\n",
        "\n",
        "def solve_opt(x0,miu0,rho,rho_r,C,l_bound, u_bound,r_hat, thres, miu_d):\n",
        "    \n",
        "    n = len(x0)\n",
        "    x = x0\n",
        "    y = x0\n",
        "    diff = 1000000\n",
        "    miu = miu0\n",
        "    iterations = 0\n",
        "    \n",
        "    while diff > thres:\n",
        "        x = opt_x(y,miu,rho,rho_r,C,l_bound, u_bound,r_hat)\n",
        "        y = opt_x(x,miu,rho,rho_r,C,l_bound, u_bound,r_hat)\n",
        "        miu = miu*miu_d\n",
        "        diff = ((x-y).T @ (x-y))**2\n",
        "        iterations+=1\n",
        "        \n",
        "    return x,y,diff,iterations\n",
        "    \n",
        "    \n",
        "\n",
        "def opt_summary(x0,miu0,rho,rho_r,C,l_bound, u_bound,r_hat, thres, miu_d):\n",
        "    \n",
        "    start = timeit.default_timer()\n",
        "    \n",
        "    x,y,diff,iterations = solve_opt(x0,miu0,rho,rho_r,C,l_bound, u_bound,r_hat, thres, miu_d)\n",
        "    \n",
        "    stop = timeit.default_timer()\n",
        "    \n",
        "    # print('Optimal Weights x:', np.round(x.T,4), \"\\n\",\n",
        "    # 'L2 norm of optimal x and y:', diff,\"\\n\",\n",
        "    # 'Optimization time:', np.round(stop-start,4),\"s\"\n",
        "    # )\n",
        "    return (np.round(x.T,4),diff,np.round(stop-start,4),iterations)\n",
        "    \n"
      ],
      "id": "66178ab7",
      "execution_count": null,
      "outputs": []
    },
    {
      "cell_type": "markdown",
      "metadata": {
        "id": "2z8rcFoiAkkv"
      },
      "source": [
        "## d)"
      ],
      "id": "2z8rcFoiAkkv"
    },
    {
      "cell_type": "code",
      "metadata": {
        "id": "fe47b96c"
      },
      "source": [
        "#d)\n",
        "C = np.array([[94.868,33.75,12.325,1.178,8.778],\n",
        "             [33.75,445.642,98.955,7.901,84.954],\n",
        "             [12.325,98.955,117.265,0.503,45.184],\n",
        "             [1.178,7.901,0.503,5.46,1.057],\n",
        "             [8.778,84.954,45.184,1.057,34.126]])\n",
        "\n",
        "#target return > 0 \n",
        "r_hat = np.array([0]*5).reshape(-1,1) \n",
        "#start with equal weights\n",
        "x0 = np.array([0.2]*5).reshape(-1,1) \n",
        "l_bound = np.array([-1]*5).reshape(-1,1)\n",
        "u_bound = np.array([1]*5).reshape(-1,1)\n",
        "miu0 = 1\n",
        "rho = 2\n",
        "rho_r = 0\n",
        "thres = 0.0001\n",
        "miu_d = 0.9"
      ],
      "id": "fe47b96c",
      "execution_count": null,
      "outputs": []
    },
    {
      "cell_type": "markdown",
      "metadata": {
        "id": "puS9ecL_Jqkr"
      },
      "source": [
        "### Below, we are able to get an optimal value of x for given Covariance matrix\n",
        "\n"
      ],
      "id": "puS9ecL_Jqkr"
    },
    {
      "cell_type": "code",
      "metadata": {
        "id": "d6019216",
        "colab": {
          "base_uri": "https://localhost:8080/"
        },
        "outputId": "92a8d19f-4275-4389-ad7b-0642442eecd6"
      },
      "source": [
        "optimal_x,x_y_diff, time_taken,iterations = opt_summary(x0,miu0,rho,rho_r,C,l_bound, u_bound,r_hat, thres, miu_d)\n",
        "print('Optimal Weights x:', optimal_x, \"\\n\",\n",
        "    'L2 norm of optimal x and y:', x_y_diff,\"\\n\",\n",
        "    'Optimization time:', time_taken,\"s\"\n",
        "    )"
      ],
      "id": "d6019216",
      "execution_count": null,
      "outputs": [
        {
          "output_type": "stream",
          "text": [
            "Optimal Weights x: [[ 0.0585 -0.0999 -0.1317  0.7082  0.4648]] \n",
            " L2 norm of optimal x and y: [[6.17869915e-05]] \n",
            " Optimization time: 2.4457 s\n"
          ],
          "name": "stdout"
        }
      ]
    },
    {
      "cell_type": "markdown",
      "metadata": {
        "id": "pv2vkqY6LbGj"
      },
      "source": [
        "### Effect of Changing Threshold of Ending condition\n",
        "\n",
        "Threshold of ending condition signifies how much difference between x and y is acceptable\n",
        "\n",
        "As expected, if we decrease the threshold, it takes more iterations and more time to reach the ending condition, however after sufficiently decreasing the threshold, only a few more iterations are needed to reach ending condition, besides that time taken per iteration also drops a bit"
      ],
      "id": "pv2vkqY6LbGj"
    },
    {
      "cell_type": "code",
      "metadata": {
        "id": "009861fc",
        "colab": {
          "base_uri": "https://localhost:8080/"
        },
        "outputId": "89b0183f-e1fa-4f46-acfe-d7ecbc56177b"
      },
      "source": [
        "C = np.array([[94.868,33.75,12.325,1.178,8.778],\n",
        "             [33.75,445.642,98.955,7.901,84.954],\n",
        "             [12.325,98.955,117.265,0.503,45.184],\n",
        "             [1.178,7.901,0.503,5.46,1.057],\n",
        "             [8.778,84.954,45.184,1.057,34.126]])\n",
        "\n",
        "#target return > 0 \n",
        "r_hat = np.array([0]*5).reshape(-1,1) \n",
        "#start with equal weights\n",
        "x0 = np.array([0.2]*5).reshape(-1,1) \n",
        "l_bound = np.array([-1]*5).reshape(-1,1)\n",
        "u_bound = np.array([1]*5).reshape(-1,1)\n",
        "miu0 = 1\n",
        "rho = 2\n",
        "rho_r = 0\n",
        "miu_d = 0.9\n",
        "\n",
        "for z in range(1,10):\n",
        "  print('#'*40)\n",
        "  thres = 10**(-z)\n",
        "  print(\"Threshold\", thres)\n",
        "  optimal_x,x_y_diff, time_taken,iterations = opt_summary(x0,miu0,rho,rho_r,C,l_bound, u_bound,r_hat, thres, miu_d)\n",
        "  print(\"Time Taken\",time_taken, \"  x_y_diff\", x_y_diff, \"  iterations\",iterations, \"time_per_iteration\",np.round((time_taken/iterations),4))"
      ],
      "id": "009861fc",
      "execution_count": null,
      "outputs": [
        {
          "output_type": "stream",
          "text": [
            "########################################\n",
            "Threshold 0.1\n",
            "Time Taken 1.8972   x_y_diff [[0.04677998]]   iterations 24 time_per_iteration 0.079\n",
            "########################################\n",
            "Threshold 0.01\n",
            "Time Taken 2.1283   x_y_diff [[0.00916705]]   iterations 27 time_per_iteration 0.0788\n",
            "########################################\n",
            "Threshold 0.001\n",
            "Time Taken 2.3563   x_y_diff [[0.00085713]]   iterations 30 time_per_iteration 0.0785\n",
            "########################################\n",
            "Threshold 0.0001\n",
            "Time Taken 2.3898   x_y_diff [[6.17869915e-05]]   iterations 32 time_per_iteration 0.0747\n",
            "########################################\n",
            "Threshold 1e-05\n",
            "Time Taken 2.5025   x_y_diff [[9.00764354e-06]]   iterations 33 time_per_iteration 0.0758\n",
            "########################################\n",
            "Threshold 1e-06\n",
            "Time Taken 2.6515   x_y_diff [[7.19579943e-07]]   iterations 34 time_per_iteration 0.078\n",
            "########################################\n",
            "Threshold 1e-07\n",
            "Time Taken 2.7014   x_y_diff [[2.71570045e-08]]   iterations 35 time_per_iteration 0.0772\n",
            "########################################\n",
            "Threshold 1e-08\n",
            "Time Taken 2.7282   x_y_diff [[4.2918084e-10]]   iterations 36 time_per_iteration 0.0758\n",
            "########################################\n",
            "Threshold 1e-09\n",
            "Time Taken 2.7127   x_y_diff [[4.2918084e-10]]   iterations 36 time_per_iteration 0.0754\n"
          ],
          "name": "stdout"
        }
      ]
    },
    {
      "cell_type": "markdown",
      "metadata": {
        "id": "IN74mv2VNH4L"
      },
      "source": [
        "### Effect of Bounds\n",
        "\n",
        "I increased the bounds from (-1,1) to (-10,10), Atleast this increase did not cause the number of iterations to increase, also time taken per iteration also doesnt change much, this effect of bound can be more extreme if we severely limit the upper and lower bound to be very close to each other, which will make it very difficult to reach ending conditions"
      ],
      "id": "IN74mv2VNH4L"
    },
    {
      "cell_type": "code",
      "metadata": {
        "colab": {
          "base_uri": "https://localhost:8080/"
        },
        "id": "5c3vZfG5LpRc",
        "outputId": "5c1d66b7-6500-4fd7-dfec-7fa43395ad7d"
      },
      "source": [
        "C = np.array([[94.868,33.75,12.325,1.178,8.778],\n",
        "             [33.75,445.642,98.955,7.901,84.954],\n",
        "             [12.325,98.955,117.265,0.503,45.184],\n",
        "             [1.178,7.901,0.503,5.46,1.057],\n",
        "             [8.778,84.954,45.184,1.057,34.126]])\n",
        "\n",
        "#target return > 0 \n",
        "r_hat = np.array([0]*5).reshape(-1,1) \n",
        "#start with equal weights\n",
        "x0 = np.array([0.2]*5).reshape(-1,1) \n",
        "l_bound = np.array([-10]*5).reshape(-1,1)\n",
        "u_bound = np.array([10]*5).reshape(-1,1)\n",
        "miu0 = 1\n",
        "rho = 2\n",
        "rho_r = 0\n",
        "miu_d = 0.9\n",
        "\n",
        "for z in range(1,10):\n",
        "  print('#'*40)\n",
        "  thres = 10**(-z)\n",
        "  print(\"Threshold\", thres)\n",
        "  optimal_x,x_y_diff, time_taken,iterations = opt_summary(x0,miu0,rho,rho_r,C,l_bound, u_bound,r_hat, thres, miu_d)\n",
        "  print(\"Time Taken\",time_taken, \"  x_y_diff\", x_y_diff, \"  iterations\",iterations, \"time_per_iteration\",np.round((time_taken/iterations),4))"
      ],
      "id": "5c3vZfG5LpRc",
      "execution_count": null,
      "outputs": [
        {
          "output_type": "stream",
          "text": [
            "########################################\n",
            "Threshold 0.1\n",
            "Time Taken 1.8077   x_y_diff [[0.07830602]]   iterations 23 time_per_iteration 0.0786\n",
            "########################################\n",
            "Threshold 0.01\n",
            "Time Taken 2.0344   x_y_diff [[0.00931917]]   iterations 27 time_per_iteration 0.0753\n",
            "########################################\n",
            "Threshold 0.001\n",
            "Time Taken 2.2637   x_y_diff [[0.00086176]]   iterations 30 time_per_iteration 0.0755\n",
            "########################################\n",
            "Threshold 0.0001\n",
            "Time Taken 2.3518   x_y_diff [[6.2058482e-05]]   iterations 32 time_per_iteration 0.0735\n",
            "########################################\n",
            "Threshold 1e-05\n",
            "Time Taken 2.4681   x_y_diff [[9.05016352e-06]]   iterations 33 time_per_iteration 0.0748\n",
            "########################################\n",
            "Threshold 1e-06\n",
            "Time Taken 2.5605   x_y_diff [[7.2285038e-07]]   iterations 34 time_per_iteration 0.0753\n",
            "########################################\n",
            "Threshold 1e-07\n",
            "Time Taken 2.7253   x_y_diff [[2.72735399e-08]]   iterations 35 time_per_iteration 0.0779\n",
            "########################################\n",
            "Threshold 1e-08\n",
            "Time Taken 2.771   x_y_diff [[4.29811224e-10]]   iterations 36 time_per_iteration 0.077\n",
            "########################################\n",
            "Threshold 1e-09\n",
            "Time Taken 2.7904   x_y_diff [[4.29811224e-10]]   iterations 36 time_per_iteration 0.0775\n"
          ],
          "name": "stdout"
        }
      ]
    },
    {
      "cell_type": "markdown",
      "metadata": {
        "id": "elvYk7F8OcPn"
      },
      "source": [
        "### Effect of Rho\n",
        "\n",
        "As we increase rho from 1 to 26, we are incresing weight of $x^TCx$ term and it makes convergence of x and y a bit hard and hence it takes more iterations to reach ending condition"
      ],
      "id": "elvYk7F8OcPn"
    },
    {
      "cell_type": "code",
      "metadata": {
        "colab": {
          "base_uri": "https://localhost:8080/"
        },
        "id": "Dx98qps4N1GP",
        "outputId": "9321f0a5-5ac9-4717-c61b-62d12541c662"
      },
      "source": [
        "C = np.array([[94.868,33.75,12.325,1.178,8.778],\n",
        "             [33.75,445.642,98.955,7.901,84.954],\n",
        "             [12.325,98.955,117.265,0.503,45.184],\n",
        "             [1.178,7.901,0.503,5.46,1.057],\n",
        "             [8.778,84.954,45.184,1.057,34.126]])\n",
        "\n",
        "#target return > 0 \n",
        "r_hat = np.array([0]*5).reshape(-1,1) \n",
        "#start with equal weights\n",
        "x0 = np.array([0.2]*5).reshape(-1,1) \n",
        "l_bound = np.array([-1]*5).reshape(-1,1)\n",
        "u_bound = np.array([1]*5).reshape(-1,1)\n",
        "miu0 = 1\n",
        "# rho = 2\n",
        "rho_r = 0\n",
        "miu_d = 0.9\n",
        "thres = 10**(-5)\n",
        "\n",
        "for rho in range(1,30,5):\n",
        "  print('#'*40)\n",
        "  print(\"Rho\", rho)\n",
        "  optimal_x,x_y_diff, time_taken,iterations = opt_summary(x0,miu0,rho,rho_r,C,l_bound, u_bound,r_hat, thres, miu_d)\n",
        "  print(\"Time Taken\",time_taken, \"  x_y_diff\", x_y_diff, \"  iterations\",iterations, \"time_per_iteration\",np.round((time_taken/iterations),4))"
      ],
      "id": "Dx98qps4N1GP",
      "execution_count": null,
      "outputs": [
        {
          "output_type": "stream",
          "text": [
            "########################################\n",
            "Rho 1\n",
            "Time Taken 2.1943   x_y_diff [[3.73919063e-06]]   iterations 28 time_per_iteration 0.0784\n",
            "########################################\n",
            "Rho 6\n",
            "Time Taken 3.6382   x_y_diff [[4.54235523e-07]]   iterations 47 time_per_iteration 0.0774\n",
            "########################################\n",
            "Rho 11\n",
            "Time Taken 4.2739   x_y_diff [[3.80877479e-06]]   iterations 56 time_per_iteration 0.0763\n",
            "########################################\n",
            "Rho 16\n",
            "Time Taken 4.9854   x_y_diff [[2.03980294e-06]]   iterations 64 time_per_iteration 0.0779\n",
            "########################################\n",
            "Rho 21\n",
            "Time Taken 5.1408   x_y_diff [[7.91493108e-06]]   iterations 68 time_per_iteration 0.0756\n",
            "########################################\n",
            "Rho 26\n",
            "Time Taken 5.5079   x_y_diff [[7.44439756e-07]]   iterations 72 time_per_iteration 0.0765\n"
          ],
          "name": "stdout"
        }
      ]
    },
    {
      "cell_type": "markdown",
      "metadata": {
        "id": "Fu1vEfQfPay9"
      },
      "source": [
        "### Effect of miu_d\n",
        "miu_d is the factor by which I am decreasing $\\mu^{(k)}$ in each iteration, as I increase miu_d from 0.2 to 0.9, I am slowing the pace of decrease in $\\mu^{(k)}$, this makes the penalty factor relevant for more iterations and makes the algorithm take more iterations to reach the ending condition of difference of x and y reaching a certain threshold\n"
      ],
      "id": "Fu1vEfQfPay9"
    },
    {
      "cell_type": "code",
      "metadata": {
        "colab": {
          "base_uri": "https://localhost:8080/"
        },
        "id": "kCdIA_x3PCRn",
        "outputId": "17e50523-1ec0-457e-ba18-cff21b22e1db"
      },
      "source": [
        "C = np.array([[94.868,33.75,12.325,1.178,8.778],\n",
        "             [33.75,445.642,98.955,7.901,84.954],\n",
        "             [12.325,98.955,117.265,0.503,45.184],\n",
        "             [1.178,7.901,0.503,5.46,1.057],\n",
        "             [8.778,84.954,45.184,1.057,34.126]])\n",
        "\n",
        "#target return > 0 \n",
        "r_hat = np.array([0]*5).reshape(-1,1) \n",
        "#start with equal weights\n",
        "x0 = np.array([0.2]*5).reshape(-1,1) \n",
        "l_bound = np.array([-1]*5).reshape(-1,1)\n",
        "u_bound = np.array([1]*5).reshape(-1,1)\n",
        "miu0 = 1\n",
        "rho = 2\n",
        "rho_r = 0\n",
        "# miu_d = 0.9\n",
        "thres = 10**(-5)\n",
        "\n",
        "for miu_d_help in range(2,10):\n",
        "  print('#'*40)\n",
        "  miu_d = miu_d_help/10\n",
        "  print(\"miu_d\", miu_d)\n",
        "  optimal_x,x_y_diff, time_taken,iterations = opt_summary(x0,miu0,rho,rho_r,C,l_bound, u_bound,r_hat, thres, miu_d)\n",
        "  print(\"Time Taken\",time_taken, \"  x_y_diff\", x_y_diff, \"  iterations\",iterations, \"time_per_iteration\",np.round((time_taken/iterations),4))"
      ],
      "id": "kCdIA_x3PCRn",
      "execution_count": null,
      "outputs": [
        {
          "output_type": "stream",
          "text": [
            "########################################\n",
            "miu_d 0.2\n",
            "Time Taken 0.3433   x_y_diff [[4.91752842e-09]]   iterations 4 time_per_iteration 0.0858\n",
            "########################################\n",
            "miu_d 0.3\n",
            "Time Taken 0.4268   x_y_diff [[5.94359939e-10]]   iterations 5 time_per_iteration 0.0854\n",
            "########################################\n",
            "miu_d 0.4\n",
            "Time Taken 0.4787   x_y_diff [[1.53491218e-09]]   iterations 6 time_per_iteration 0.0798\n",
            "########################################\n",
            "miu_d 0.5\n",
            "Time Taken 0.5476   x_y_diff [[3.02476705e-08]]   iterations 7 time_per_iteration 0.0782\n",
            "########################################\n",
            "miu_d 0.6\n",
            "Time Taken 0.7811   x_y_diff [[1.45986494e-08]]   iterations 9 time_per_iteration 0.0868\n",
            "########################################\n",
            "miu_d 0.7\n",
            "Time Taken 0.9548   x_y_diff [[3.57031403e-08]]   iterations 12 time_per_iteration 0.0796\n",
            "########################################\n",
            "miu_d 0.8\n",
            "Time Taken 1.2911   x_y_diff [[4.12071229e-06]]   iterations 17 time_per_iteration 0.0759\n",
            "########################################\n",
            "miu_d 0.9\n",
            "Time Taken 2.5116   x_y_diff [[9.00764354e-06]]   iterations 33 time_per_iteration 0.0761\n"
          ],
          "name": "stdout"
        }
      ]
    },
    {
      "cell_type": "markdown",
      "metadata": {
        "id": "xCY8tA7yR2an"
      },
      "source": [
        "### Effect of Profit Threshold\n",
        "\n",
        "If we keep profit threshold fairly less or negative, we are able to reach an optimality condition of portfolio but we arent able to fit for highly positive values of profit threshold"
      ],
      "id": "xCY8tA7yR2an"
    },
    {
      "cell_type": "code",
      "metadata": {
        "colab": {
          "base_uri": "https://localhost:8080/"
        },
        "id": "Muj3PeovREn6",
        "outputId": "23a4caf9-45da-48a9-dfff-fd1e703c26a5"
      },
      "source": [
        "C = np.array([[94.868,33.75,12.325,1.178,8.778],\n",
        "             [33.75,445.642,98.955,7.901,84.954],\n",
        "             [12.325,98.955,117.265,0.503,45.184],\n",
        "             [1.178,7.901,0.503,5.46,1.057],\n",
        "             [8.778,84.954,45.184,1.057,34.126]])\n",
        "\n",
        "#target return > 0 \n",
        "r_hat = np.array([0]*5).reshape(-1,1) \n",
        "#start with equal weights\n",
        "x0 = np.array([0.2]*5).reshape(-1,1) \n",
        "l_bound = np.array([-1]*5).reshape(-1,1)\n",
        "u_bound = np.array([1]*5).reshape(-1,1)\n",
        "miu0 = 1\n",
        "rho = 2\n",
        "rho_r = 0\n",
        "miu_d = 0.9\n",
        "thres = 10**(-5)\n",
        "\n",
        "for rho_r in range(-20,40,10):\n",
        "  print('#'*40)\n",
        "  print(\"rho_r\", rho_r)\n",
        "  try:\n",
        "    optimal_x,x_y_diff, time_taken,iterations = opt_summary(x0,miu0,rho,rho_r,C,l_bound, u_bound,r_hat, thres, miu_d)\n",
        "    print(\"Time Taken\",time_taken, \"  x_y_diff\", x_y_diff, \"  iterations\",iterations, \"time_per_iteration\",np.round((time_taken/iterations),4))\n",
        "  except:\n",
        "    print(\"Unable to fit\")"
      ],
      "id": "Muj3PeovREn6",
      "execution_count": null,
      "outputs": [
        {
          "output_type": "stream",
          "text": [
            "########################################\n",
            "rho_r -20\n",
            "Time Taken 2.5577   x_y_diff [[9.0084002e-06]]   iterations 33 time_per_iteration 0.0775\n",
            "########################################\n",
            "rho_r -10\n",
            "Time Taken 2.5127   x_y_diff [[9.00887763e-06]]   iterations 33 time_per_iteration 0.0761\n",
            "########################################\n",
            "rho_r 0\n",
            "Time Taken 2.5144   x_y_diff [[9.00764354e-06]]   iterations 33 time_per_iteration 0.0762\n",
            "########################################\n",
            "rho_r 10\n",
            "Unable to fit\n",
            "########################################\n",
            "rho_r 20\n",
            "Unable to fit\n",
            "########################################\n",
            "rho_r 30\n",
            "Unable to fit\n"
          ],
          "name": "stdout"
        }
      ]
    },
    {
      "cell_type": "markdown",
      "metadata": {
        "id": "mqhakn2BRxTf"
      },
      "source": [
        "### Comparison with direct solution technique\n",
        "\n",
        "Below, I use scipy.optimize instead of Matlab's fmincon. Both y and x need to be input as a single vector and constraints, bounds are given appropriately as before using scipy's format.\n",
        "\n"
      ],
      "id": "mqhakn2BRxTf"
    },
    {
      "cell_type": "code",
      "metadata": {
        "id": "rCrt7MX189GT"
      },
      "source": [
        "import scipy.optimize as optimize\n",
        "import scipy.optimize as minimize\n",
        "from scipy.optimize import Bounds"
      ],
      "id": "rCrt7MX189GT",
      "execution_count": null,
      "outputs": []
    },
    {
      "cell_type": "code",
      "metadata": {
        "id": "s8GSZMMJ89Jz",
        "colab": {
          "base_uri": "https://localhost:8080/"
        },
        "outputId": "8fe6791b-53dd-46e6-8a75-3c3dc63ce09e"
      },
      "source": [
        "C = np.array([[94.868,33.75,12.325,1.178,8.778],\n",
        "             [33.75,445.642,98.955,7.901,84.954],\n",
        "             [12.325,98.955,117.265,0.503,45.184],\n",
        "             [1.178,7.901,0.503,5.46,1.057],\n",
        "             [8.778,84.954,45.184,1.057,34.126]])\n",
        "rho = 2\n",
        "\n",
        "guess = np.array([0.2 for z in range(10)])\n",
        "\n",
        "def myfunc(x):\n",
        "  curr_n = int(len(x)/2)\n",
        "  #print(\"a\",curr_n)\n",
        "  x1 = x[:curr_n]\n",
        "  y1 = x[curr_n:]\n",
        "  first_term = 0\n",
        "  Mlist = create_mlst(x1)\n",
        "  for z in range(curr_n):\n",
        "    first_term+= (x1.T @ (C @ (Mlist[z]) - (1/curr_n)*C ) @ (y1))**2\n",
        "  second_term = rho* x1.T @ (C) @ (x1)\n",
        "  return (first_term+second_term)\n",
        "\n",
        "def apply_xy_constraint(x):\n",
        "    curr_n = int(len(x)/2)\n",
        "    #print('b',curr_n)\n",
        "    x1 = x[:curr_n]\n",
        "    y1 = x[curr_n:]\n",
        "    my_sum = 0\n",
        "    for z in range(curr_n):\n",
        "      my_sum +=abs(x1[z]-y1[z])\n",
        "    return my_sum\n",
        "\n",
        "def apply_sum_constraint(x):\n",
        "    curr_n = int(len(x)/2)\n",
        "    #print('c',curr_n)\n",
        "    x1 = x[:curr_n]\n",
        "    total = 1 - np.sum(x1)\n",
        "    return total\n",
        "\n",
        "\n",
        "my_bounds = Bounds([-1 for z in guess],[1 for z in guess])\n",
        "my_constraints = ({'type': 'eq', \"fun\": apply_sum_constraint },{'type': 'eq', \"fun\": apply_xy_constraint })\n",
        "\n",
        "result = optimize.minimize(myfunc, \n",
        "                      guess, \n",
        "                      method='SLSQP', \n",
        "                      # args=(a, b, c),\n",
        "                      bounds=my_bounds,\n",
        "                      options={'disp': True},\n",
        "                      constraints=my_constraints,\n",
        "                      tol = 10**(-5))\n",
        "result"
      ],
      "id": "s8GSZMMJ89Jz",
      "execution_count": null,
      "outputs": [
        {
          "output_type": "stream",
          "text": [
            "Optimization terminated successfully.    (Exit mode 0)\n",
            "            Current function value: 13.368177009290989\n",
            "            Iterations: 81\n",
            "            Function evaluations: 1069\n",
            "            Gradient evaluations: 81\n"
          ],
          "name": "stdout"
        },
        {
          "output_type": "execute_result",
          "data": {
            "text/plain": [
              "     fun: 13.368177009290989\n",
              "     jac: array([ 36.66924977,  26.01157045,  45.13480067,  23.18568635,\n",
              "        29.20314431,  -5.17817974,   5.95526946, -13.60212159,\n",
              "         8.11838651,   2.22823882])\n",
              " message: 'Optimization terminated successfully.'\n",
              "    nfev: 1069\n",
              "     nit: 81\n",
              "    njev: 81\n",
              "  status: 0\n",
              " success: True\n",
              "       x: array([ 0.09045647, -0.09777786,  0.04095021,  0.68276441,  0.28360677,\n",
              "        0.09045584, -0.09778541,  0.04094972,  0.68276393,  0.28360747])"
            ]
          },
          "metadata": {
            "tags": []
          },
          "execution_count": 80
        }
      ]
    },
    {
      "cell_type": "markdown",
      "metadata": {
        "id": "Xsg2kLw9SeTh"
      },
      "source": [
        "Optimal Weights from above contain, x as well as y vector appended together and their values match as expected.\n",
        "\n",
        "These direct solution(above) values are also pretty close to our encoded relaxation approach values(below) as expected.\n",
        "\n",
        "[[ 0.0585 -0.0999 -0.1317  0.7082  0.4648]] "
      ],
      "id": "Xsg2kLw9SeTh"
    }
  ]
}